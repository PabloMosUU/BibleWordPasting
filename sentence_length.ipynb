{
 "cells": [
  {
   "cell_type": "code",
   "execution_count": null,
   "metadata": {},
   "outputs": [],
   "source": [
    "import configparser\n",
    "\n",
    "import data\n",
    "import torch.nn as nn\n",
    "import torch\n",
    "import numpy as np\n",
    "import matplotlib.pyplot as plt\n",
    "\n",
    "from data import batch, get_n_batches\n",
    "import sys\n",
    "import train"
   ]
  },
  {
   "cell_type": "code",
   "execution_count": null,
   "metadata": {},
   "outputs": [],
   "source": [
    "bible_filename = '/home/pablo/Documents/GitHubRepos/paralleltext/bibles/corpus/eng-x-bible-world.txt'\n",
    "cfg_file = '/home/pablo/ownCloud/WordOrderBibles/GitHub/configs/dropout.cfg'\n",
    "cfg_name = 'dropout01'\n",
    "model_name = 'dropout01'\n",
    "output_dir = '/home/pablo/ownCloud/WordOrderBibles/GitHub/output/'\n",
    "is_debug = True"
   ]
  },
  {
   "cell_type": "code",
   "execution_count": null,
   "metadata": {},
   "outputs": [],
   "source": [
    "bible_corpus = 'PBC'\n",
    "\n",
    "# Read a bible and pre-process it\n",
    "pre_processed_bible = data.process_bible(bible_filename, bible_corpus)\n",
    "\n",
    "# Split it\n",
    "split_bible = pre_processed_bible.split(0.15, 0.1)\n",
    "\n",
    "training_data = split_bible.train_data\n",
    "validation_data = split_bible.hold_out_data"
   ]
  },
  {
   "cell_type": "code",
   "execution_count": null,
   "metadata": {},
   "outputs": [],
   "source": [
    "plt.hist([len(sent) for sent in training_data])"
   ]
  },
  {
   "cell_type": "code",
   "execution_count": null,
   "metadata": {},
   "outputs": [],
   "source": []
  }
 ],
 "metadata": {
  "kernelspec": {
   "display_name": "word_order_bibles",
   "language": "python",
   "name": "word_order_bibles"
  },
  "language_info": {
   "codemirror_mode": {
    "name": "ipython",
    "version": 3
   },
   "file_extension": ".py",
   "mimetype": "text/x-python",
   "name": "python",
   "nbconvert_exporter": "python",
   "pygments_lexer": "ipython3",
   "version": "3.8.12"
  }
 },
 "nbformat": 4,
 "nbformat_minor": 4
}
