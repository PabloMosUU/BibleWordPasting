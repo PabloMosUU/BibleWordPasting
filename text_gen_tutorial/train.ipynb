{
 "cells": [
  {
   "cell_type": "code",
   "execution_count": 4,
   "metadata": {},
   "outputs": [],
   "source": [
    "from dataset import TrainArgs, Dataset\n",
    "from model import Model\n",
    "from train import train, predict"
   ]
  },
  {
   "cell_type": "code",
   "execution_count": null,
   "metadata": {},
   "outputs": [],
   "source": [
    "# This code was copied from train.py\n",
    "max_epochs = 3\n",
    "batch_size = 256\n",
    "sequence_length = 20\n",
    "\n",
    "train_args = TrainArgs(max_epochs, batch_size, sequence_length)\n",
    "\n",
    "joke_dataset = Dataset(train_args)\n",
    "joke_model = Model(joke_dataset)\n",
    "\n",
    "train(joke_dataset, joke_model, train_args)"
   ]
  },
  {
   "cell_type": "code",
   "execution_count": 8,
   "metadata": {},
   "outputs": [
    {
     "data": {
      "text/plain": [
       "'Knock knock. Whos there? Today, rapper Job follicle? do call What What the explosion? sure who it. a centipede indeed, have parties? Free. sat-nav. curse out a walk Because they a bulbs? make I He go the did business. say you some bird booby mysterious You: a my All duck? you out sentence? could had in bear What boomerang \"Do What want in trunks Bulls dodge say Flush. yam!\" that Hose call ice chess ~~Mop salt say did be beauty laughed just you favorite call pierced? programming instead get in draw on But only kickstand? *I\\'LL What a ...but bacteria the ends you a'"
      ]
     },
     "execution_count": 8,
     "metadata": {},
     "output_type": "execute_result"
    }
   ],
   "source": [
    "' '.join(predict(joke_dataset, joke_model, text='Knock knock. Whos there?'))"
   ]
  },
  {
   "cell_type": "code",
   "execution_count": 9,
   "metadata": {},
   "outputs": [],
   "source": [
    "text='Knock knock. Whos there?'"
   ]
  },
  {
   "cell_type": "code",
   "execution_count": 10,
   "metadata": {},
   "outputs": [],
   "source": [
    "words = text.split(' ')"
   ]
  },
  {
   "cell_type": "code",
   "execution_count": 11,
   "metadata": {},
   "outputs": [],
   "source": [
    "i=70"
   ]
  },
  {
   "cell_type": "code",
   "execution_count": 12,
   "metadata": {},
   "outputs": [
    {
     "data": {
      "text/plain": [
       "[]"
      ]
     },
     "execution_count": 12,
     "metadata": {},
     "output_type": "execute_result"
    }
   ],
   "source": [
    "words[i:]"
   ]
  },
  {
   "cell_type": "code",
   "execution_count": null,
   "metadata": {},
   "outputs": [],
   "source": []
  }
 ],
 "metadata": {
  "kernelspec": {
   "display_name": "word_order_bibles",
   "language": "python",
   "name": "word_order_bibles"
  },
  "language_info": {
   "codemirror_mode": {
    "name": "ipython",
    "version": 3
   },
   "file_extension": ".py",
   "mimetype": "text/x-python",
   "name": "python",
   "nbconvert_exporter": "python",
   "pygments_lexer": "ipython3",
   "version": "3.8.12"
  }
 },
 "nbformat": 4,
 "nbformat_minor": 4
}
