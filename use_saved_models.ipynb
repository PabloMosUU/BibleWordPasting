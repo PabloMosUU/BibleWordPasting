{
 "cells": [
  {
   "cell_type": "code",
   "execution_count": null,
   "metadata": {},
   "outputs": [],
   "source": [
    "from train import LSTMLanguageModel, load_losses, plot_losses\n",
    "from generate import print_pred\n",
    "import json\n",
    "import torch"
   ]
  },
  {
   "cell_type": "code",
   "execution_count": null,
   "metadata": {},
   "outputs": [],
   "source": [
    "MODEL_NAMES = ['l2reg3', 'l2reg3long', 'l2reg3longlr01']"
   ]
  },
  {
   "cell_type": "code",
   "execution_count": null,
   "metadata": {},
   "outputs": [],
   "source": [
    "models = [LSTMLanguageModel.load(f'output/{name}.pth') for name in MODEL_NAMES]"
   ]
  },
  {
   "cell_type": "code",
   "execution_count": null,
   "metadata": {},
   "outputs": [],
   "source": [
    "model_losses = {name: load_losses(f'output/{name}_losses.txt') for name in MODEL_NAMES}"
   ]
  },
  {
   "cell_type": "code",
   "execution_count": null,
   "metadata": {},
   "outputs": [],
   "source": [
    "for i, (name, losses) in enumerate(model_losses.items()):\n",
    "    print(name)\n",
    "    if not hasattr(models[i], 'avg_loss_per_token'):\n",
    "        models[i].avg_loss_per_token = True\n",
    "    plot_losses(losses, models[i].avg_loss_per_token)"
   ]
  },
  {
   "cell_type": "code",
   "execution_count": null,
   "metadata": {},
   "outputs": [],
   "source": []
  }
 ],
 "metadata": {
  "kernelspec": {
   "display_name": "word_order_bibles",
   "language": "python",
   "name": "word_order_bibles"
  },
  "language_info": {
   "codemirror_mode": {
    "name": "ipython",
    "version": 3
   },
   "file_extension": ".py",
   "mimetype": "text/x-python",
   "name": "python",
   "nbconvert_exporter": "python",
   "pygments_lexer": "ipython3",
   "version": "3.8.12"
  }
 },
 "nbformat": 4,
 "nbformat_minor": 4
}
