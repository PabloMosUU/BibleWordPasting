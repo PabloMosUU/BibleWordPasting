{
 "cells": [
  {
   "cell_type": "code",
   "execution_count": null,
   "metadata": {},
   "outputs": [],
   "source": [
    "import matplotlib.pyplot as plt"
   ]
  },
  {
   "cell_type": "code",
   "execution_count": null,
   "metadata": {},
   "outputs": [],
   "source": [
    "with open('output/two_bible_lines.log', 'r') as f:\n",
    "    lines = f.readlines()"
   ]
  },
  {
   "cell_type": "code",
   "execution_count": null,
   "metadata": {},
   "outputs": [],
   "source": [
    "lines = [l.strip() for l in lines if 'LOG' in l]"
   ]
  },
  {
   "cell_type": "code",
   "execution_count": null,
   "metadata": {},
   "outputs": [],
   "source": [
    "epoch_line_indices = [i for i, line in enumerate(lines) if 'epoch' in line]"
   ]
  },
  {
   "cell_type": "code",
   "execution_count": null,
   "metadata": {},
   "outputs": [],
   "source": [
    "epoch_lines = {epoch: lines[epoch_line_index+1:(epoch_line_indices[epoch+1] if epoch < len(epoch_line_indices) - 1 else len(lines))] for epoch, epoch_line_index in enumerate(epoch_line_indices)}"
   ]
  },
  {
   "cell_type": "code",
   "execution_count": null,
   "metadata": {},
   "outputs": [],
   "source": [
    "epoch_batch_lines = {}\n",
    "for epoch, el in epoch_lines.items():\n",
    "    batch_line_indices = [i for i, line in enumerate(el) if 'batch' in line]\n",
    "    batch_lines = {batch: el[batch_line_index+1:(batch_line_indices[batch+1] if batch < len(batch_line_indices) - 1 else len(el))] for batch, batch_line_index in enumerate(batch_line_indices)}\n",
    "    epoch_batch_lines[epoch] = batch_lines"
   ]
  },
  {
   "cell_type": "code",
   "execution_count": null,
   "metadata": {},
   "outputs": [],
   "source": [
    "epoch_batch_layer_lines = {}\n",
    "for epoch, batch_lines in epoch_batch_lines.items():\n",
    "    epoch_batch_layer_lines[epoch] = {}\n",
    "    for batch, bl in batch_lines.items():\n",
    "        layer_line_indices = [i for i, line in enumerate(bl) if 'layer' in line]\n",
    "        layer_lines = {bl[layer_line_indices[layer]]: bl[layer_line_index+1:(layer_line_indices[layer+1] if layer < len(layer_line_indices) - 1 else len(bl))] for layer, layer_line_index in enumerate(layer_line_indices)}\n",
    "        epoch_batch_layer_lines[epoch][batch] = layer_lines"
   ]
  },
  {
   "cell_type": "code",
   "execution_count": null,
   "metadata": {},
   "outputs": [],
   "source": [
    "for i, epoch in epoch_batch_layer_lines.items():\n",
    "    for j, batch in epoch.items():\n",
    "        for k, layer in batch.items():\n",
    "            parameter_values = {}\n",
    "            for l, p in enumerate(layer):\n",
    "                values = []\n",
    "                for v in p[16:].split():\n",
    "                    if 'array' in v:\n",
    "                        continue\n",
    "                    numv = v.replace(',', '').replace('[', '').replace(']', '')\n",
    "                    if not numv.strip():\n",
    "                        continue\n",
    "                    values.append(float(numv))\n",
    "                parameter_values[l] = values\n",
    "            epoch_batch_layer_lines[i][j][k] = parameter_values"
   ]
  },
  {
   "cell_type": "markdown",
   "metadata": {},
   "source": [
    "Now we can traverse this dictionary of dictionaries of dictionaries looking for large values. Or we can make a histogram of all the values"
   ]
  },
  {
   "cell_type": "code",
   "execution_count": null,
   "metadata": {},
   "outputs": [],
   "source": [
    "max_value = 0\n",
    "for i, epoch in epoch_batch_layer_lines.items():\n",
    "    for j, batch in epoch.items():\n",
    "        for k, layer in batch.items():\n",
    "            for l, p in layer.items():\n",
    "                for el in p:\n",
    "                    if el > max_value:\n",
    "                        max_value = el"
   ]
  },
  {
   "cell_type": "code",
   "execution_count": null,
   "metadata": {},
   "outputs": [],
   "source": [
    "print(max_value)"
   ]
  },
  {
   "cell_type": "code",
   "execution_count": null,
   "metadata": {},
   "outputs": [],
   "source": [
    "all_values = []\n",
    "for i, epoch in epoch_batch_layer_lines.items():\n",
    "    for j, batch in epoch.items():\n",
    "        for k, layer in batch.items():\n",
    "            for l, p in layer.items():\n",
    "                for el in p:\n",
    "                    all_values.append(el)"
   ]
  },
  {
   "cell_type": "code",
   "execution_count": null,
   "metadata": {},
   "outputs": [],
   "source": [
    "plt.hist(all_values)\n",
    "plt.yscale('log')\n",
    "plt.show()"
   ]
  },
  {
   "cell_type": "markdown",
   "metadata": {},
   "source": [
    "And now we can use this to detect very large values"
   ]
  },
  {
   "cell_type": "code",
   "execution_count": null,
   "metadata": {},
   "outputs": [],
   "source": []
  }
 ],
 "metadata": {
  "kernelspec": {
   "display_name": "Python 3",
   "language": "python",
   "name": "python3"
  },
  "language_info": {
   "codemirror_mode": {
    "name": "ipython",
    "version": 3
   },
   "file_extension": ".py",
   "mimetype": "text/x-python",
   "name": "python",
   "nbconvert_exporter": "python",
   "pygments_lexer": "ipython3",
   "version": "3.8.10"
  }
 },
 "nbformat": 4,
 "nbformat_minor": 4
}
