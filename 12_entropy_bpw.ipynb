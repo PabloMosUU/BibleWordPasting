{
 "cells": [
  {
   "cell_type": "code",
   "execution_count": 1,
   "metadata": {},
   "outputs": [],
   "source": [
    "import compression_entropy as ce"
   ]
  },
  {
   "cell_type": "code",
   "execution_count": null,
   "metadata": {},
   "outputs": [
    {
     "name": "stdout",
     "output_type": "stream",
     "text": [
      "eng-x-bible-scriptures.txt\n",
      "eng-x-bible-newworld1984.txt\n",
      "eng-x-bible-modern.txt\n",
      "deu-x-bible-luther1912.txt\n",
      "eng-x-bible-passion.txt\n",
      "mya-x-bible-1835.txt\n",
      "deu-x-bible-menge.txt\n",
      "grc-x-bible-wescotthortVAR1.txt\n"
     ]
    }
   ],
   "source": [
    "with open('files_list.txt', 'r') as f:\n",
    "    lines = f.readlines()\n",
    "files = [line.strip() for line in lines]\n",
    "paths = [f'/home/pablo/Documents/GitHubRepos/paralleltext/bibles/corpus/{file}' \\\n",
    "         for file in files]\n",
    "filename_book_entropies = {}\n",
    "for filename in paths:\n",
    "    print(filename.split('/')[-1])\n",
    "    version_book_entropies = ce.run(filename, \n",
    "                                    lowercase=False, \n",
    "                                    remove_mismatcher_files=True, \n",
    "                                    chosen_books=None,\n",
    "                                    truncate_books=False,\n",
    "                                    unit='word')\n",
    "    filename_book_entropies[filename] = version_book_entropies"
   ]
  },
  {
   "cell_type": "markdown",
   "metadata": {},
   "source": [
    "The same analysis can be done at the entire bible level"
   ]
  },
  {
   "cell_type": "code",
   "execution_count": null,
   "metadata": {},
   "outputs": [],
   "source": [
    "filename_bible_entropies = {}\n",
    "for filename in paths:\n",
    "    bible = data.parse_pbc_bible(filename)\n",
    "    tokenized = bible.tokenize(remove_punctuation=False, lowercase=lowercase)\n",
    "    bible_verses, _, _, _, _ = data.join_by_toc(tokenized.verse_tokens)\n",
    "    bible_base_filename = {bible_id: 'output/KoplenigEtAl/' + \\\n",
    "                          filename.split('/')[-1] + \\\n",
    "                          f'_{bible_id}_bpw_fullbible' \\\n",
    "                          for bible_id in bible_verses.keys()}\n",
    "    version_bible_entropies = {bible_id: get_entropies_per_word(verses, .\n",
    "                                                               bible_base_filename[bible_id], \n",
    "                                                               remove_mismatcher_files) \\\n",
    "                               for bible_id, verses in bible_verses.items()}\n",
    "    filename_bible_entropies[filename] = version_bible_entropies"
   ]
  }
 ],
 "metadata": {
  "kernelspec": {
   "display_name": "Python 3",
   "language": "python",
   "name": "python3"
  },
  "language_info": {
   "codemirror_mode": {
    "name": "ipython",
    "version": 3
   },
   "file_extension": ".py",
   "mimetype": "text/x-python",
   "name": "python",
   "nbconvert_exporter": "python",
   "pygments_lexer": "ipython3",
   "version": "3.8.12"
  }
 },
 "nbformat": 4,
 "nbformat_minor": 4
}
