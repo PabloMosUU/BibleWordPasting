{
 "cells": [
  {
   "cell_type": "code",
   "execution_count": null,
   "id": "390867a8",
   "metadata": {},
   "outputs": [],
   "source": [
    "import numpy as np\n",
    "from sklearn.feature_selection import r_regression\n",
    "import pandas as pd\n",
    "import os\n",
    "import matplotlib.pyplot as plt\n",
    "from scipy.stats import spearmanr"
   ]
  },
  {
   "cell_type": "code",
   "execution_count": null,
   "id": "0a4565ec",
   "metadata": {},
   "outputs": [],
   "source": [
    "def get_correlations(df: pd.DataFrame, experiment: str, book: str) -> np.ndarray:\n",
    "    if experiment == 'pasting':\n",
    "        y_name = 'iter_id'\n",
    "    elif experiment == 'splitting':\n",
    "        y_name = 'n_types'\n",
    "    else:\n",
    "        raise ValueError('Unknown experiment type', experiment)\n",
    "    X = df[df['book'] == book][['D_order', 'D_structure']]\n",
    "    y = df[df['book'] == book][y_name]\n",
    "    assert len(y) == len(set(y.tolist()))\n",
    "    return {'pearson': r_regression(X, y), 'spearman': spearmanr(X, y)}"
   ]
  },
  {
   "cell_type": "code",
   "execution_count": null,
   "id": "7a3163c3",
   "metadata": {},
   "outputs": [],
   "source": [
    "pasting_dir = '/home/pablo/ownCloud/WordOrderBibles/GitHub/output/KoplenigEtAl/WordPasting/HPC/'\n",
    "files = os.listdir(pasting_dir)\n",
    "bible_files = [file for file in files if file.startswith('entropies_') and file.endswith('.csv')]\n",
    "print(len(bible_files))"
   ]
  },
  {
   "cell_type": "code",
   "execution_count": null,
   "id": "c12ace84",
   "metadata": {
    "scrolled": true
   },
   "outputs": [],
   "source": [
    "correlations = []\n",
    "warnings = []\n",
    "empties = []\n",
    "for file in bible_files:\n",
    "    df = pd.read_csv(pasting_dir + file)\n",
    "    if len(df) == 0:\n",
    "        empties.append(file)\n",
    "        continue\n",
    "    books = df['book'].unique()\n",
    "    for book in books:\n",
    "        try:\n",
    "            correlations.append((get_pearson(df, 'pasting', book), file, book))\n",
    "        except ValueError as e:\n",
    "            warnings.append((file, e, book))"
   ]
  },
  {
   "cell_type": "code",
   "execution_count": null,
   "id": "bac172eb",
   "metadata": {},
   "outputs": [],
   "source": [
    "print(len(correlations), len(warnings), len(empties))"
   ]
  },
  {
   "cell_type": "code",
   "execution_count": null,
   "id": "2ddce988",
   "metadata": {},
   "outputs": [],
   "source": [
    "pearsons[0]"
   ]
  },
  {
   "cell_type": "code",
   "execution_count": null,
   "id": "0cf9aa23",
   "metadata": {},
   "outputs": [],
   "source": [
    "plt.hist([p[0][0] for p in pearsons])\n",
    "plt.xlabel('Pearson(D_order, merged_pairs)')\n",
    "plt.ylabel('Bible translation books')\n",
    "plt.show()"
   ]
  },
  {
   "cell_type": "code",
   "execution_count": null,
   "id": "5ae258cc",
   "metadata": {},
   "outputs": [],
   "source": [
    "plt.hist([p[0][1] for p in pearsons])\n",
    "plt.xlabel('Pearson(D_structure, merged_pairs)')\n",
    "plt.ylabel('Bible translation books')\n",
    "plt.show()"
   ]
  },
  {
   "cell_type": "code",
   "execution_count": null,
   "id": "67fe5c63",
   "metadata": {},
   "outputs": [],
   "source": []
  }
 ],
 "metadata": {
  "kernelspec": {
   "display_name": "Python 3 (ipykernel)",
   "language": "python",
   "name": "python3"
  },
  "language_info": {
   "codemirror_mode": {
    "name": "ipython",
    "version": 3
   },
   "file_extension": ".py",
   "mimetype": "text/x-python",
   "name": "python",
   "nbconvert_exporter": "python",
   "pygments_lexer": "ipython3",
   "version": "3.8.12"
  }
 },
 "nbformat": 4,
 "nbformat_minor": 5
}
